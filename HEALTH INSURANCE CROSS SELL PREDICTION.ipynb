{
 "cells": [
  {
   "cell_type": "markdown",
   "id": "900c638b",
   "metadata": {},
   "source": [
    "# Health insurance cross sell prediction"
   ]
  },
  {
   "cell_type": "markdown",
   "id": "16abe41f",
   "metadata": {},
   "source": [
    "# Problem statement\n",
    "   To Predict whether a customer would need vehicle insurance or not.This helps in building communication strategy of the company with the customers to optimise its business model and revenue."
   ]
  },
  {
   "cell_type": "markdown",
   "id": "a824c61c",
   "metadata": {},
   "source": [
    "# Business context\n",
    "  Client is an insurance company that provides health insurance to people and is need to provide a model to predict if its         policy holders need vehicle insurance or not.An insurance policy is an arrangement ehich the company undertakes to provide a     guarantee of compensation for specified loss,damage,illness or death in return for a specified premium amount.A premium is a     sum of money that the client has to regularly pay to an insurance company for this guarantee.\n",
    "  Just like medical insurance there is vehicle insurance where evry customer need to pay a certain premium to insurance provider company so that in case of unfortunate accident by the vehicle the insurance provider company will pay a compensation (sum assured) to the customer.\n",
    "   "
   ]
  },
  {
   "cell_type": "markdown",
   "id": "b72b52b8",
   "metadata": {},
   "source": [
    "# Import libraries"
   ]
  },
  {
   "cell_type": "code",
   "execution_count": 1,
   "id": "8f33937b",
   "metadata": {},
   "outputs": [],
   "source": [
    "import pandas as pd\n",
    "import numpy as np \n",
    "import matplotlib.pyplot as plt\n",
    "import seaborn as sns\n",
    "from sklearn.impute import SimpleImputer\n",
    "from sklearn.model_selection import train_test_split\n",
    "from scipy.stats.mstats import winsorize\n",
    "from scipy import stats\n",
    "from scipy.stats import randint\n",
    "\n",
    "from sklearn.ensemble import RandomForestClassifier\n",
    "from sklearn.metrics import precision_score,recall_score,accuracy_score,confusion_matrix,classification_report\n",
    "from sklearn.model_selection import RandomizedSearchCV,StratifiedKFold\n",
    "\n"
   ]
  },
  {
   "cell_type": "code",
   "execution_count": 2,
   "id": "4a4ca8b6",
   "metadata": {},
   "outputs": [
    {
     "name": "stdout",
     "output_type": "stream",
     "text": [
      "Requirement already satisfied: xgBoost in c:\\users\\riyaz\\anaconda3\\lib\\site-packages (1.7.6)\n",
      "Requirement already satisfied: numpy in c:\\users\\riyaz\\anaconda3\\lib\\site-packages (from xgBoost) (1.24.3)\n",
      "Requirement already satisfied: scipy in c:\\users\\riyaz\\anaconda3\\lib\\site-packages (from xgBoost) (1.9.1)\n"
     ]
    },
    {
     "name": "stderr",
     "output_type": "stream",
     "text": [
      "\n",
      "[notice] A new release of pip is available: 23.1.2 -> 23.2.1\n",
      "[notice] To update, run: python.exe -m pip install --upgrade pip\n"
     ]
    }
   ],
   "source": [
    "#Installing xgboost\n",
    "!pip install xgBoost"
   ]
  },
  {
   "cell_type": "code",
   "execution_count": 3,
   "id": "73f6a467",
   "metadata": {},
   "outputs": [],
   "source": [
    "# importing xgboost\n",
    "import xgboost as xg"
   ]
  },
  {
   "cell_type": "code",
   "execution_count": 4,
   "id": "157d2c44",
   "metadata": {},
   "outputs": [
    {
     "name": "stdout",
     "output_type": "stream",
     "text": [
      "Requirement already satisfied: imbalanced-learn in c:\\users\\riyaz\\anaconda3\\lib\\site-packages (0.11.0)\n",
      "Requirement already satisfied: numpy>=1.17.3 in c:\\users\\riyaz\\anaconda3\\lib\\site-packages (from imbalanced-learn) (1.24.3)\n",
      "Requirement already satisfied: scipy>=1.5.0 in c:\\users\\riyaz\\anaconda3\\lib\\site-packages (from imbalanced-learn) (1.9.1)\n",
      "Requirement already satisfied: scikit-learn>=1.0.2 in c:\\users\\riyaz\\anaconda3\\lib\\site-packages (from imbalanced-learn) (1.0.2)\n",
      "Requirement already satisfied: joblib>=1.1.1 in c:\\users\\riyaz\\anaconda3\\lib\\site-packages (from imbalanced-learn) (1.3.2)\n",
      "Requirement already satisfied: threadpoolctl>=2.0.0 in c:\\users\\riyaz\\anaconda3\\lib\\site-packages (from imbalanced-learn) (2.2.0)\n"
     ]
    },
    {
     "name": "stderr",
     "output_type": "stream",
     "text": [
      "\n",
      "[notice] A new release of pip is available: 23.1.2 -> 23.2.1\n",
      "[notice] To update, run: python.exe -m pip install --upgrade pip\n"
     ]
    }
   ],
   "source": [
    "#installing imbalanced_learn\n",
    "!pip install imbalanced-learn"
   ]
  },
  {
   "cell_type": "code",
   "execution_count": 5,
   "id": "96fbd23e",
   "metadata": {},
   "outputs": [],
   "source": [
    "#importing RANDOMoVERsAMPLER\n",
    "from imblearn.over_sampling import RandomOverSampler"
   ]
  },
  {
   "cell_type": "markdown",
   "id": "d2dcec8f",
   "metadata": {},
   "source": [
    "# Loading dataset"
   ]
  },
  {
   "cell_type": "code",
   "execution_count": 6,
   "id": "f673651b",
   "metadata": {},
   "outputs": [],
   "source": [
    "df=pd.read_csv(r\"C:\\Users\\riyaz\\Downloads\\TRAIN-HEALTH INSURANCE CROSS SELL PREDICTION.csv\")"
   ]
  },
  {
   "cell_type": "code",
   "execution_count": 7,
   "id": "2a0e8e3f",
   "metadata": {},
   "outputs": [
    {
     "data": {
      "text/html": [
       "<div>\n",
       "<style scoped>\n",
       "    .dataframe tbody tr th:only-of-type {\n",
       "        vertical-align: middle;\n",
       "    }\n",
       "\n",
       "    .dataframe tbody tr th {\n",
       "        vertical-align: top;\n",
       "    }\n",
       "\n",
       "    .dataframe thead th {\n",
       "        text-align: right;\n",
       "    }\n",
       "</style>\n",
       "<table border=\"1\" class=\"dataframe\">\n",
       "  <thead>\n",
       "    <tr style=\"text-align: right;\">\n",
       "      <th></th>\n",
       "      <th>id</th>\n",
       "      <th>Gender</th>\n",
       "      <th>Age</th>\n",
       "      <th>Driving_License</th>\n",
       "      <th>Region_Code</th>\n",
       "      <th>Previously_Insured</th>\n",
       "      <th>Vehicle_Age</th>\n",
       "      <th>Vehicle_Damage</th>\n",
       "      <th>Annual_Premium</th>\n",
       "      <th>Policy_Sales_Channel</th>\n",
       "      <th>Vintage</th>\n",
       "      <th>Response</th>\n",
       "    </tr>\n",
       "  </thead>\n",
       "  <tbody>\n",
       "    <tr>\n",
       "      <th>0</th>\n",
       "      <td>1</td>\n",
       "      <td>Male</td>\n",
       "      <td>44</td>\n",
       "      <td>1</td>\n",
       "      <td>28.0</td>\n",
       "      <td>0</td>\n",
       "      <td>&gt; 2 Years</td>\n",
       "      <td>Yes</td>\n",
       "      <td>40454.0</td>\n",
       "      <td>26.0</td>\n",
       "      <td>217</td>\n",
       "      <td>1</td>\n",
       "    </tr>\n",
       "    <tr>\n",
       "      <th>1</th>\n",
       "      <td>2</td>\n",
       "      <td>Male</td>\n",
       "      <td>76</td>\n",
       "      <td>1</td>\n",
       "      <td>3.0</td>\n",
       "      <td>0</td>\n",
       "      <td>1-2 Year</td>\n",
       "      <td>No</td>\n",
       "      <td>33536.0</td>\n",
       "      <td>26.0</td>\n",
       "      <td>183</td>\n",
       "      <td>0</td>\n",
       "    </tr>\n",
       "    <tr>\n",
       "      <th>2</th>\n",
       "      <td>3</td>\n",
       "      <td>Male</td>\n",
       "      <td>47</td>\n",
       "      <td>1</td>\n",
       "      <td>28.0</td>\n",
       "      <td>0</td>\n",
       "      <td>&gt; 2 Years</td>\n",
       "      <td>Yes</td>\n",
       "      <td>38294.0</td>\n",
       "      <td>26.0</td>\n",
       "      <td>27</td>\n",
       "      <td>1</td>\n",
       "    </tr>\n",
       "    <tr>\n",
       "      <th>3</th>\n",
       "      <td>4</td>\n",
       "      <td>Male</td>\n",
       "      <td>21</td>\n",
       "      <td>1</td>\n",
       "      <td>11.0</td>\n",
       "      <td>1</td>\n",
       "      <td>&lt; 1 Year</td>\n",
       "      <td>No</td>\n",
       "      <td>28619.0</td>\n",
       "      <td>152.0</td>\n",
       "      <td>203</td>\n",
       "      <td>0</td>\n",
       "    </tr>\n",
       "    <tr>\n",
       "      <th>4</th>\n",
       "      <td>5</td>\n",
       "      <td>Female</td>\n",
       "      <td>29</td>\n",
       "      <td>1</td>\n",
       "      <td>41.0</td>\n",
       "      <td>1</td>\n",
       "      <td>&lt; 1 Year</td>\n",
       "      <td>No</td>\n",
       "      <td>27496.0</td>\n",
       "      <td>152.0</td>\n",
       "      <td>39</td>\n",
       "      <td>0</td>\n",
       "    </tr>\n",
       "  </tbody>\n",
       "</table>\n",
       "</div>"
      ],
      "text/plain": [
       "   id  Gender  Age  Driving_License  Region_Code  Previously_Insured  \\\n",
       "0   1    Male   44                1         28.0                   0   \n",
       "1   2    Male   76                1          3.0                   0   \n",
       "2   3    Male   47                1         28.0                   0   \n",
       "3   4    Male   21                1         11.0                   1   \n",
       "4   5  Female   29                1         41.0                   1   \n",
       "\n",
       "  Vehicle_Age Vehicle_Damage  Annual_Premium  Policy_Sales_Channel  Vintage  \\\n",
       "0   > 2 Years            Yes         40454.0                  26.0      217   \n",
       "1    1-2 Year             No         33536.0                  26.0      183   \n",
       "2   > 2 Years            Yes         38294.0                  26.0       27   \n",
       "3    < 1 Year             No         28619.0                 152.0      203   \n",
       "4    < 1 Year             No         27496.0                 152.0       39   \n",
       "\n",
       "   Response  \n",
       "0         1  \n",
       "1         0  \n",
       "2         1  \n",
       "3         0  \n",
       "4         0  "
      ]
     },
     "execution_count": 7,
     "metadata": {},
     "output_type": "execute_result"
    }
   ],
   "source": [
    "#Retrieving first 5 rows\n",
    "df.head()"
   ]
  },
  {
   "cell_type": "code",
   "execution_count": 8,
   "id": "15d1640e",
   "metadata": {},
   "outputs": [
    {
     "data": {
      "text/plain": [
       "(381109, 12)"
      ]
     },
     "execution_count": 8,
     "metadata": {},
     "output_type": "execute_result"
    }
   ],
   "source": [
    "#Retrieving shape of dataset\n",
    "df.shape"
   ]
  },
  {
   "cell_type": "markdown",
   "id": "e1500096",
   "metadata": {},
   "source": [
    "# Dataset has 381109 rows and 12 columns."
   ]
  },
  {
   "cell_type": "code",
   "execution_count": 9,
   "id": "92a978f8",
   "metadata": {},
   "outputs": [
    {
     "name": "stdout",
     "output_type": "stream",
     "text": [
      "<class 'pandas.core.frame.DataFrame'>\n",
      "RangeIndex: 381109 entries, 0 to 381108\n",
      "Data columns (total 12 columns):\n",
      " #   Column                Non-Null Count   Dtype  \n",
      "---  ------                --------------   -----  \n",
      " 0   id                    381109 non-null  int64  \n",
      " 1   Gender                381109 non-null  object \n",
      " 2   Age                   381109 non-null  int64  \n",
      " 3   Driving_License       381109 non-null  int64  \n",
      " 4   Region_Code           381109 non-null  float64\n",
      " 5   Previously_Insured    381109 non-null  int64  \n",
      " 6   Vehicle_Age           381109 non-null  object \n",
      " 7   Vehicle_Damage        381109 non-null  object \n",
      " 8   Annual_Premium        381109 non-null  float64\n",
      " 9   Policy_Sales_Channel  381109 non-null  float64\n",
      " 10  Vintage               381109 non-null  int64  \n",
      " 11  Response              381109 non-null  int64  \n",
      "dtypes: float64(3), int64(6), object(3)\n",
      "memory usage: 34.9+ MB\n"
     ]
    }
   ],
   "source": [
    "#datatypes,null and non-null columns \n",
    "df.info()"
   ]
  },
  {
   "cell_type": "code",
   "execution_count": 10,
   "id": "bc782093",
   "metadata": {},
   "outputs": [
    {
     "data": {
      "text/html": [
       "<div>\n",
       "<style scoped>\n",
       "    .dataframe tbody tr th:only-of-type {\n",
       "        vertical-align: middle;\n",
       "    }\n",
       "\n",
       "    .dataframe tbody tr th {\n",
       "        vertical-align: top;\n",
       "    }\n",
       "\n",
       "    .dataframe thead th {\n",
       "        text-align: right;\n",
       "    }\n",
       "</style>\n",
       "<table border=\"1\" class=\"dataframe\">\n",
       "  <thead>\n",
       "    <tr style=\"text-align: right;\">\n",
       "      <th></th>\n",
       "      <th>id</th>\n",
       "      <th>Age</th>\n",
       "      <th>Driving_License</th>\n",
       "      <th>Region_Code</th>\n",
       "      <th>Previously_Insured</th>\n",
       "      <th>Annual_Premium</th>\n",
       "      <th>Policy_Sales_Channel</th>\n",
       "      <th>Vintage</th>\n",
       "      <th>Response</th>\n",
       "    </tr>\n",
       "  </thead>\n",
       "  <tbody>\n",
       "    <tr>\n",
       "      <th>count</th>\n",
       "      <td>381109.000000</td>\n",
       "      <td>381109.000000</td>\n",
       "      <td>381109.000000</td>\n",
       "      <td>381109.000000</td>\n",
       "      <td>381109.000000</td>\n",
       "      <td>381109.000000</td>\n",
       "      <td>381109.000000</td>\n",
       "      <td>381109.000000</td>\n",
       "      <td>381109.000000</td>\n",
       "    </tr>\n",
       "    <tr>\n",
       "      <th>mean</th>\n",
       "      <td>190555.000000</td>\n",
       "      <td>38.822584</td>\n",
       "      <td>0.997869</td>\n",
       "      <td>26.388807</td>\n",
       "      <td>0.458210</td>\n",
       "      <td>30564.389581</td>\n",
       "      <td>112.034295</td>\n",
       "      <td>154.347397</td>\n",
       "      <td>0.122563</td>\n",
       "    </tr>\n",
       "    <tr>\n",
       "      <th>std</th>\n",
       "      <td>110016.836208</td>\n",
       "      <td>15.511611</td>\n",
       "      <td>0.046110</td>\n",
       "      <td>13.229888</td>\n",
       "      <td>0.498251</td>\n",
       "      <td>17213.155057</td>\n",
       "      <td>54.203995</td>\n",
       "      <td>83.671304</td>\n",
       "      <td>0.327936</td>\n",
       "    </tr>\n",
       "    <tr>\n",
       "      <th>min</th>\n",
       "      <td>1.000000</td>\n",
       "      <td>20.000000</td>\n",
       "      <td>0.000000</td>\n",
       "      <td>0.000000</td>\n",
       "      <td>0.000000</td>\n",
       "      <td>2630.000000</td>\n",
       "      <td>1.000000</td>\n",
       "      <td>10.000000</td>\n",
       "      <td>0.000000</td>\n",
       "    </tr>\n",
       "    <tr>\n",
       "      <th>25%</th>\n",
       "      <td>95278.000000</td>\n",
       "      <td>25.000000</td>\n",
       "      <td>1.000000</td>\n",
       "      <td>15.000000</td>\n",
       "      <td>0.000000</td>\n",
       "      <td>24405.000000</td>\n",
       "      <td>29.000000</td>\n",
       "      <td>82.000000</td>\n",
       "      <td>0.000000</td>\n",
       "    </tr>\n",
       "    <tr>\n",
       "      <th>50%</th>\n",
       "      <td>190555.000000</td>\n",
       "      <td>36.000000</td>\n",
       "      <td>1.000000</td>\n",
       "      <td>28.000000</td>\n",
       "      <td>0.000000</td>\n",
       "      <td>31669.000000</td>\n",
       "      <td>133.000000</td>\n",
       "      <td>154.000000</td>\n",
       "      <td>0.000000</td>\n",
       "    </tr>\n",
       "    <tr>\n",
       "      <th>75%</th>\n",
       "      <td>285832.000000</td>\n",
       "      <td>49.000000</td>\n",
       "      <td>1.000000</td>\n",
       "      <td>35.000000</td>\n",
       "      <td>1.000000</td>\n",
       "      <td>39400.000000</td>\n",
       "      <td>152.000000</td>\n",
       "      <td>227.000000</td>\n",
       "      <td>0.000000</td>\n",
       "    </tr>\n",
       "    <tr>\n",
       "      <th>max</th>\n",
       "      <td>381109.000000</td>\n",
       "      <td>85.000000</td>\n",
       "      <td>1.000000</td>\n",
       "      <td>52.000000</td>\n",
       "      <td>1.000000</td>\n",
       "      <td>540165.000000</td>\n",
       "      <td>163.000000</td>\n",
       "      <td>299.000000</td>\n",
       "      <td>1.000000</td>\n",
       "    </tr>\n",
       "  </tbody>\n",
       "</table>\n",
       "</div>"
      ],
      "text/plain": [
       "                  id            Age  Driving_License    Region_Code  \\\n",
       "count  381109.000000  381109.000000    381109.000000  381109.000000   \n",
       "mean   190555.000000      38.822584         0.997869      26.388807   \n",
       "std    110016.836208      15.511611         0.046110      13.229888   \n",
       "min         1.000000      20.000000         0.000000       0.000000   \n",
       "25%     95278.000000      25.000000         1.000000      15.000000   \n",
       "50%    190555.000000      36.000000         1.000000      28.000000   \n",
       "75%    285832.000000      49.000000         1.000000      35.000000   \n",
       "max    381109.000000      85.000000         1.000000      52.000000   \n",
       "\n",
       "       Previously_Insured  Annual_Premium  Policy_Sales_Channel  \\\n",
       "count       381109.000000   381109.000000         381109.000000   \n",
       "mean             0.458210    30564.389581            112.034295   \n",
       "std              0.498251    17213.155057             54.203995   \n",
       "min              0.000000     2630.000000              1.000000   \n",
       "25%              0.000000    24405.000000             29.000000   \n",
       "50%              0.000000    31669.000000            133.000000   \n",
       "75%              1.000000    39400.000000            152.000000   \n",
       "max              1.000000   540165.000000            163.000000   \n",
       "\n",
       "             Vintage       Response  \n",
       "count  381109.000000  381109.000000  \n",
       "mean      154.347397       0.122563  \n",
       "std        83.671304       0.327936  \n",
       "min        10.000000       0.000000  \n",
       "25%        82.000000       0.000000  \n",
       "50%       154.000000       0.000000  \n",
       "75%       227.000000       0.000000  \n",
       "max       299.000000       1.000000  "
      ]
     },
     "execution_count": 10,
     "metadata": {},
     "output_type": "execute_result"
    }
   ],
   "source": [
    "# Describing the dataset\n",
    "df.describe()"
   ]
  },
  {
   "cell_type": "markdown",
   "id": "e4493b40",
   "metadata": {},
   "source": [
    "# Checking for missing values or null values"
   ]
  },
  {
   "cell_type": "code",
   "execution_count": 11,
   "id": "c77baafa",
   "metadata": {},
   "outputs": [
    {
     "data": {
      "text/plain": [
       "id                      0\n",
       "Gender                  0\n",
       "Age                     0\n",
       "Driving_License         0\n",
       "Region_Code             0\n",
       "Previously_Insured      0\n",
       "Vehicle_Age             0\n",
       "Vehicle_Damage          0\n",
       "Annual_Premium          0\n",
       "Policy_Sales_Channel    0\n",
       "Vintage                 0\n",
       "Response                0\n",
       "dtype: int64"
      ]
     },
     "execution_count": 11,
     "metadata": {},
     "output_type": "execute_result"
    }
   ],
   "source": [
    "#Total no of nulls in columns\n",
    "df.isnull().sum()"
   ]
  },
  {
   "cell_type": "markdown",
   "id": "26cb6f55",
   "metadata": {},
   "source": [
    "# No missing or null values in the dataset"
   ]
  },
  {
   "cell_type": "markdown",
   "id": "6fde2946",
   "metadata": {},
   "source": [
    "# Checking unique values in columns"
   ]
  },
  {
   "cell_type": "code",
   "execution_count": 12,
   "id": "9cc8b5d6",
   "metadata": {},
   "outputs": [
    {
     "data": {
      "text/plain": [
       "1    380297\n",
       "0       812\n",
       "Name: Driving_License, dtype: int64"
      ]
     },
     "execution_count": 12,
     "metadata": {},
     "output_type": "execute_result"
    }
   ],
   "source": [
    "df['Driving_License'].value_counts()"
   ]
  },
  {
   "cell_type": "code",
   "execution_count": 13,
   "id": "ad381dde",
   "metadata": {},
   "outputs": [
    {
     "data": {
      "text/plain": [
       "0    206481\n",
       "1    174628\n",
       "Name: Previously_Insured, dtype: int64"
      ]
     },
     "execution_count": 13,
     "metadata": {},
     "output_type": "execute_result"
    }
   ],
   "source": [
    "df['Previously_Insured'].value_counts()"
   ]
  },
  {
   "cell_type": "code",
   "execution_count": 14,
   "id": "b20f250c",
   "metadata": {},
   "outputs": [
    {
     "data": {
      "text/plain": [
       "Yes    192413\n",
       "No     188696\n",
       "Name: Vehicle_Damage, dtype: int64"
      ]
     },
     "execution_count": 14,
     "metadata": {},
     "output_type": "execute_result"
    }
   ],
   "source": [
    "df['Vehicle_Damage'].value_counts()"
   ]
  },
  {
   "cell_type": "code",
   "execution_count": 15,
   "id": "1e54748a",
   "metadata": {},
   "outputs": [
    {
     "data": {
      "text/plain": [
       "152.0    134784\n",
       "26.0      79700\n",
       "124.0     73995\n",
       "160.0     21779\n",
       "156.0     10661\n",
       "          ...  \n",
       "149.0         1\n",
       "43.0          1\n",
       "144.0         1\n",
       "143.0         1\n",
       "41.0          1\n",
       "Name: Policy_Sales_Channel, Length: 155, dtype: int64"
      ]
     },
     "execution_count": 15,
     "metadata": {},
     "output_type": "execute_result"
    }
   ],
   "source": [
    "df['Policy_Sales_Channel'].value_counts()"
   ]
  },
  {
   "cell_type": "code",
   "execution_count": 16,
   "id": "ab452c38",
   "metadata": {},
   "outputs": [
    {
     "data": {
      "text/plain": [
       "1-2 Year     200316\n",
       "< 1 Year     164786\n",
       "> 2 Years     16007\n",
       "Name: Vehicle_Age, dtype: int64"
      ]
     },
     "execution_count": 16,
     "metadata": {},
     "output_type": "execute_result"
    }
   ],
   "source": [
    "df['Vehicle_Age'].value_counts()"
   ]
  },
  {
   "cell_type": "code",
   "execution_count": 17,
   "id": "04fbccae",
   "metadata": {},
   "outputs": [
    {
     "data": {
      "text/plain": [
       "Male      206089\n",
       "Female    175020\n",
       "Name: Gender, dtype: int64"
      ]
     },
     "execution_count": 17,
     "metadata": {},
     "output_type": "execute_result"
    }
   ],
   "source": [
    "df['Gender'].value_counts()"
   ]
  },
  {
   "cell_type": "code",
   "execution_count": 18,
   "id": "28475b35",
   "metadata": {},
   "outputs": [
    {
     "data": {
      "text/plain": [
       "28.0    106415\n",
       "8.0      33877\n",
       "46.0     19749\n",
       "41.0     18263\n",
       "15.0     13308\n",
       "30.0     12191\n",
       "29.0     11065\n",
       "50.0     10243\n",
       "3.0       9251\n",
       "11.0      9232\n",
       "36.0      8797\n",
       "33.0      7654\n",
       "47.0      7436\n",
       "35.0      6942\n",
       "6.0       6280\n",
       "45.0      5605\n",
       "37.0      5501\n",
       "18.0      5153\n",
       "48.0      4681\n",
       "14.0      4678\n",
       "39.0      4644\n",
       "10.0      4374\n",
       "21.0      4266\n",
       "2.0       4038\n",
       "13.0      4036\n",
       "7.0       3279\n",
       "12.0      3198\n",
       "9.0       3101\n",
       "27.0      2823\n",
       "32.0      2787\n",
       "43.0      2639\n",
       "17.0      2617\n",
       "26.0      2587\n",
       "25.0      2503\n",
       "24.0      2415\n",
       "38.0      2026\n",
       "0.0       2021\n",
       "16.0      2007\n",
       "31.0      1960\n",
       "23.0      1960\n",
       "20.0      1935\n",
       "49.0      1832\n",
       "4.0       1801\n",
       "34.0      1664\n",
       "19.0      1535\n",
       "22.0      1309\n",
       "40.0      1295\n",
       "5.0       1279\n",
       "1.0       1008\n",
       "44.0       808\n",
       "42.0       591\n",
       "52.0       267\n",
       "51.0       183\n",
       "Name: Region_Code, dtype: int64"
      ]
     },
     "execution_count": 18,
     "metadata": {},
     "output_type": "execute_result"
    }
   ],
   "source": [
    "df['Region_Code'].value_counts()"
   ]
  },
  {
   "cell_type": "code",
   "execution_count": 19,
   "id": "c9e1eb6e",
   "metadata": {},
   "outputs": [
    {
     "data": {
      "text/plain": [
       "0    206481\n",
       "1    174628\n",
       "Name: Previously_Insured, dtype: int64"
      ]
     },
     "execution_count": 19,
     "metadata": {},
     "output_type": "execute_result"
    }
   ],
   "source": [
    "df['Previously_Insured'].value_counts()"
   ]
  },
  {
   "cell_type": "code",
   "execution_count": 20,
   "id": "845ba37d",
   "metadata": {},
   "outputs": [
    {
     "data": {
      "text/plain": [
       "0    334399\n",
       "1     46710\n",
       "Name: Response, dtype: int64"
      ]
     },
     "execution_count": 20,
     "metadata": {},
     "output_type": "execute_result"
    }
   ],
   "source": [
    "df['Response'].value_counts()"
   ]
  },
  {
   "cell_type": "markdown",
   "id": "26b15bb3",
   "metadata": {},
   "source": [
    "# Exploratory data analysis"
   ]
  },
  {
   "cell_type": "code",
   "execution_count": 21,
   "id": "aaf729e0",
   "metadata": {},
   "outputs": [
    {
     "data": {
      "text/plain": [
       "Text(0, 0.5, 'Count')"
      ]
     },
     "execution_count": 21,
     "metadata": {},
     "output_type": "execute_result"
    },
    {
     "data": {
      "image/png": "[encoded data removed]",
      "text/plain": [
       "<Figure size 640x480 with 1 Axes>"
      ]
     },
     "metadata": {},
     "output_type": "display_data"
    }
   ],
   "source": [
    "#Count of responses plotted\n",
    "df['Response'].value_counts().plot(x='Response',y='count',kind='bar')\n",
    "plt.xlabel(\"Response\")\n",
    "plt.ylabel(\"Count\")\n"
   ]
  },
  {
   "cell_type": "code",
   "execution_count": 22,
   "id": "55b9c33c",
   "metadata": {},
   "outputs": [],
   "source": [
    "#Calculating percentage of interested clients\n",
    "response_percentage=round(df['Response'].value_counts()[1]*100/df.shape[0])"
   ]
  },
  {
   "cell_type": "code",
   "execution_count": 23,
   "id": "30d6df9f",
   "metadata": {},
   "outputs": [
    {
     "data": {
      "text/plain": [
       "12"
      ]
     },
     "execution_count": 23,
     "metadata": {},
     "output_type": "execute_result"
    }
   ],
   "source": [
    "response_percentage"
   ]
  },
  {
   "cell_type": "markdown",
   "id": "802e7b8d",
   "metadata": {},
   "source": [
    "# 12% clients are interested in vehicle insurance"
   ]
  },
  {
   "cell_type": "code",
   "execution_count": 24,
   "id": "c1d7dec4",
   "metadata": {},
   "outputs": [
    {
     "data": {
      "text/plain": [
       "<AxesSubplot:xlabel='Gender', ylabel='count'>"
      ]
     },
     "execution_count": 24,
     "metadata": {},
     "output_type": "execute_result"
    },
    {
     "data": {
      "image/png": "[encoded data removed]",
      "text/plain": [
       "<Figure size 640x480 with 1 Axes>"
      ]
     },
     "metadata": {},
     "output_type": "display_data"
    }
   ],
   "source": [
    "\n",
    "sns.countplot(x=df['Gender'],hue = df['Response'])"
   ]
  },
  {
   "cell_type": "code",
   "execution_count": 56,
   "id": "76b65873",
   "metadata": {},
   "outputs": [
    {
     "data": {
      "text/plain": [
       "Gender\n",
       "Female    18185\n",
       "Male      28525\n",
       "Name: Response, dtype: int64"
      ]
     },
     "execution_count": 56,
     "metadata": {},
     "output_type": "execute_result"
    }
   ],
   "source": [
    "\n",
    "df.groupby('Gender')['Response'].sum()"
   ]
  },
  {
   "cell_type": "code",
   "execution_count": 97,
   "id": "4a080c1f",
   "metadata": {},
   "outputs": [
    {
     "name": "stdout",
     "output_type": "stream",
     "text": [
      "No of males who are interested in vehicle insurance 28525\n",
      "No of females who are interested in vehicle insurance 18185\n"
     ]
    }
   ],
   "source": [
    "# No of males and females interested in vehicle insurance\n",
    "Positive_response_1 = df[df['Response'] == 1]\n",
    "Positive_response_male =Positive_response_1[Positive_response_1['Gender'] == 'Male'].shape[0]\n",
    "Positive_response_female = Positive_response_1[Positive_response_1['Gender'] == 'Female'].shape[0]\n",
    "print(\"No of males who are interested in vehicle insurance\",Positive_response_male)\n",
    "print(\"No of females who are interested in vehicle insurance\",Positive_response_female)"
   ]
  },
  {
   "cell_type": "code",
   "execution_count": 113,
   "id": "2df32c1b",
   "metadata": {},
   "outputs": [
    {
     "name": "stdout",
     "output_type": "stream",
     "text": [
      "Percentage of males interested in vehicle insurance 0.7412577504073637\n",
      "Percentage of females interested in vehicle insurance 4.771600775631119\n"
     ]
    }
   ],
   "source": [
    "print('Percentage of males interested in vehicle insurance',(2825/381109)*100)\n",
    "print('Percentage of females interested in vehicle insurance',(18185/381109)*100)"
   ]
  },
  {
   "cell_type": "code",
   "execution_count": 25,
   "id": "e1395b40",
   "metadata": {},
   "outputs": [
    {
     "data": {
      "text/plain": [
       "<AxesSubplot:>"
      ]
     },
     "execution_count": 25,
     "metadata": {},
     "output_type": "execute_result"
    },
    {
     "data": {
      "image/png": "[encoded data removed]",
      "text/plain": [
       "<Figure size 640x480 with 1 Axes>"
      ]
     },
     "metadata": {},
     "output_type": "display_data"
    }
   ],
   "source": [
    "#Plotting ouliers in a feature\n",
    "sns.boxplot(df['Annual_Premium'])"
   ]
  },
  {
   "cell_type": "markdown",
   "id": "ebc7d11c",
   "metadata": {},
   "source": [
    "# Handling outliers"
   ]
  },
  {
   "cell_type": "code",
   "execution_count": 26,
   "id": "4b457853",
   "metadata": {},
   "outputs": [],
   "source": [
    "# Calculate the IQR\n",
    "Q1 = df['Annual_Premium'].quantile(0.25)\n",
    "Q3 = df['Annual_Premium'].quantile(0.75)\n",
    "IQR = Q3 - Q1\n",
    "\n",
    "# Define Winsorization limits \n",
    "lower_limit = Q1 - 1.5 * IQR\n",
    "upper_limit = Q3 + 1.5 * IQR\n",
    "\n",
    "# Winsorize the column\n",
    "df['Annual_Premium'] = df['Annual_Premium'].apply(lambda x: lower_limit if x < lower_limit else (upper_limit if x > upper_limit else x))"
   ]
  },
  {
   "cell_type": "code",
   "execution_count": 27,
   "id": "fe9037b9",
   "metadata": {},
   "outputs": [
    {
     "data": {
      "text/plain": [
       "<AxesSubplot:>"
      ]
     },
     "execution_count": 27,
     "metadata": {},
     "output_type": "execute_result"
    },
    {
     "data": {
      "image/png": "[encoded data removed]",
      "text/plain": [
       "<Figure size 640x480 with 1 Axes>"
      ]
     },
     "metadata": {},
     "output_type": "display_data"
    }
   ],
   "source": [
    "#Feature with ouliers removed\n",
    "sns.boxplot(df['Annual_Premium'])"
   ]
  },
  {
   "cell_type": "markdown",
   "id": "183e859c",
   "metadata": {},
   "source": [
    "# Feature Engineering"
   ]
  },
  {
   "cell_type": "markdown",
   "id": "5c1b8d8d",
   "metadata": {},
   "source": [
    "## Performing one hot encoding on categorical features"
   ]
  },
  {
   "cell_type": "code",
   "execution_count": 28,
   "id": "b98c762e",
   "metadata": {},
   "outputs": [],
   "source": [
    "cat_fea=[col for col in df.columns if df[col].dtype == 'object']\n",
    "\n",
    "df_dummies=pd.get_dummies(df,columns=cat_fea,drop_first=True)\n",
    "\n"
   ]
  },
  {
   "cell_type": "code",
   "execution_count": 29,
   "id": "f9d39bbf",
   "metadata": {},
   "outputs": [
    {
     "data": {
      "text/html": [
       "<div>\n",
       "<style scoped>\n",
       "    .dataframe tbody tr th:only-of-type {\n",
       "        vertical-align: middle;\n",
       "    }\n",
       "\n",
       "    .dataframe tbody tr th {\n",
       "        vertical-align: top;\n",
       "    }\n",
       "\n",
       "    .dataframe thead th {\n",
       "        text-align: right;\n",
       "    }\n",
       "</style>\n",
       "<table border=\"1\" class=\"dataframe\">\n",
       "  <thead>\n",
       "    <tr style=\"text-align: right;\">\n",
       "      <th></th>\n",
       "      <th>id</th>\n",
       "      <th>Age</th>\n",
       "      <th>Driving_License</th>\n",
       "      <th>Region_Code</th>\n",
       "      <th>Previously_Insured</th>\n",
       "      <th>Annual_Premium</th>\n",
       "      <th>Policy_Sales_Channel</th>\n",
       "      <th>Vintage</th>\n",
       "      <th>Response</th>\n",
       "      <th>Gender_Male</th>\n",
       "      <th>Vehicle_Age_&lt; 1 Year</th>\n",
       "      <th>Vehicle_Age_&gt; 2 Years</th>\n",
       "      <th>Vehicle_Damage_Yes</th>\n",
       "    </tr>\n",
       "  </thead>\n",
       "  <tbody>\n",
       "    <tr>\n",
       "      <th>0</th>\n",
       "      <td>1</td>\n",
       "      <td>44</td>\n",
       "      <td>1</td>\n",
       "      <td>28.0</td>\n",
       "      <td>0</td>\n",
       "      <td>40454.0</td>\n",
       "      <td>26.0</td>\n",
       "      <td>217</td>\n",
       "      <td>1</td>\n",
       "      <td>1</td>\n",
       "      <td>0</td>\n",
       "      <td>1</td>\n",
       "      <td>1</td>\n",
       "    </tr>\n",
       "    <tr>\n",
       "      <th>1</th>\n",
       "      <td>2</td>\n",
       "      <td>76</td>\n",
       "      <td>1</td>\n",
       "      <td>3.0</td>\n",
       "      <td>0</td>\n",
       "      <td>33536.0</td>\n",
       "      <td>26.0</td>\n",
       "      <td>183</td>\n",
       "      <td>0</td>\n",
       "      <td>1</td>\n",
       "      <td>0</td>\n",
       "      <td>0</td>\n",
       "      <td>0</td>\n",
       "    </tr>\n",
       "    <tr>\n",
       "      <th>2</th>\n",
       "      <td>3</td>\n",
       "      <td>47</td>\n",
       "      <td>1</td>\n",
       "      <td>28.0</td>\n",
       "      <td>0</td>\n",
       "      <td>38294.0</td>\n",
       "      <td>26.0</td>\n",
       "      <td>27</td>\n",
       "      <td>1</td>\n",
       "      <td>1</td>\n",
       "      <td>0</td>\n",
       "      <td>1</td>\n",
       "      <td>1</td>\n",
       "    </tr>\n",
       "    <tr>\n",
       "      <th>3</th>\n",
       "      <td>4</td>\n",
       "      <td>21</td>\n",
       "      <td>1</td>\n",
       "      <td>11.0</td>\n",
       "      <td>1</td>\n",
       "      <td>28619.0</td>\n",
       "      <td>152.0</td>\n",
       "      <td>203</td>\n",
       "      <td>0</td>\n",
       "      <td>1</td>\n",
       "      <td>1</td>\n",
       "      <td>0</td>\n",
       "      <td>0</td>\n",
       "    </tr>\n",
       "    <tr>\n",
       "      <th>4</th>\n",
       "      <td>5</td>\n",
       "      <td>29</td>\n",
       "      <td>1</td>\n",
       "      <td>41.0</td>\n",
       "      <td>1</td>\n",
       "      <td>27496.0</td>\n",
       "      <td>152.0</td>\n",
       "      <td>39</td>\n",
       "      <td>0</td>\n",
       "      <td>0</td>\n",
       "      <td>1</td>\n",
       "      <td>0</td>\n",
       "      <td>0</td>\n",
       "    </tr>\n",
       "  </tbody>\n",
       "</table>\n",
       "</div>"
      ],
      "text/plain": [
       "   id  Age  Driving_License  Region_Code  Previously_Insured  Annual_Premium  \\\n",
       "0   1   44                1         28.0                   0         40454.0   \n",
       "1   2   76                1          3.0                   0         33536.0   \n",
       "2   3   47                1         28.0                   0         38294.0   \n",
       "3   4   21                1         11.0                   1         28619.0   \n",
       "4   5   29                1         41.0                   1         27496.0   \n",
       "\n",
       "   Policy_Sales_Channel  Vintage  Response  Gender_Male  Vehicle_Age_< 1 Year  \\\n",
       "0                  26.0      217         1            1                     0   \n",
       "1                  26.0      183         0            1                     0   \n",
       "2                  26.0       27         1            1                     0   \n",
       "3                 152.0      203         0            1                     1   \n",
       "4                 152.0       39         0            0                     1   \n",
       "\n",
       "   Vehicle_Age_> 2 Years  Vehicle_Damage_Yes  \n",
       "0                      1                   1  \n",
       "1                      0                   0  \n",
       "2                      1                   1  \n",
       "3                      0                   0  \n",
       "4                      0                   0  "
      ]
     },
     "execution_count": 29,
     "metadata": {},
     "output_type": "execute_result"
    }
   ],
   "source": [
    "df_dummies.head()"
   ]
  },
  {
   "cell_type": "markdown",
   "id": "d29484c1",
   "metadata": {},
   "source": [
    "# Dropping id column"
   ]
  },
  {
   "cell_type": "code",
   "execution_count": 30,
   "id": "b7ea01b0",
   "metadata": {},
   "outputs": [],
   "source": [
    "df1=df_dummies.drop('id',axis=1)\n",
    "#Dropiing id column before creating models"
   ]
  },
  {
   "cell_type": "code",
   "execution_count": 31,
   "id": "accb0ee4",
   "metadata": {},
   "outputs": [
    {
     "name": "stderr",
     "output_type": "stream",
     "text": [
      "C:\\Users\\riyaz\\AppData\\Local\\Temp\\ipykernel_17708\\369864525.py:2: FutureWarning: The default value of regex will change from True to False in a future version.\n",
      "  df1.columns=df1.columns.str.replace('[<]','')\n"
     ]
    }
   ],
   "source": [
    "#Replacing < sign from column \n",
    "df1.columns=df1.columns.str.replace('[<]','')\n",
    "  "
   ]
  },
  {
   "cell_type": "code",
   "execution_count": 32,
   "id": "acf35914",
   "metadata": {},
   "outputs": [
    {
     "data": {
      "text/plain": [
       "1    380297\n",
       "0       812\n",
       "Name: Driving_License, dtype: int64"
      ]
     },
     "execution_count": 32,
     "metadata": {},
     "output_type": "execute_result"
    }
   ],
   "source": [
    "df1['Driving_License'].value_counts() "
   ]
  },
  {
   "cell_type": "code",
   "execution_count": 33,
   "id": "69ce6c30",
   "metadata": {},
   "outputs": [],
   "source": [
    "no_license=df1[df1['Driving_License']==0].index\n",
    "df1.drop(no_license,inplace=True)\n",
    "#Dropping rows with no driving license as they wont be requiring vehicle insurance."
   ]
  },
  {
   "cell_type": "code",
   "execution_count": 34,
   "id": "a51a18c1",
   "metadata": {},
   "outputs": [
    {
     "name": "stdout",
     "output_type": "stream",
     "text": [
      "Policy Sales Channel with Highest Response Count: 26.0\n"
     ]
    }
   ],
   "source": [
    "#Policy_Sales_Channel and count responses\n",
    "response_counts = df1.groupby('Policy_Sales_Channel')['Response'].sum()\n",
    "\n",
    "# Find the channel with the highest response count\n",
    "max_response_channel_id = response_counts.idxmax()\n",
    "\n",
    "print(\"Policy Sales Channel with Highest Response Count:\", max_response_channel_id)\n"
   ]
  },
  {
   "cell_type": "markdown",
   "id": "d0744947",
   "metadata": {},
   "source": [
    "### Policy Sales Channel 26 has maximim positive response"
   ]
  },
  {
   "cell_type": "code",
   "execution_count": 35,
   "id": "c870118f",
   "metadata": {
    "scrolled": true
   },
   "outputs": [
    {
     "data": {
      "image/png": "[encoded data removed]",
      "text/plain": [
       "<Figure size 1000x800 with 1 Axes>"
      ]
     },
     "metadata": {},
     "output_type": "display_data"
    }
   ],
   "source": [
    "# Plot KDE plot\n",
    "plt.figure(figsize=(10, 8))\n",
    "sns.kdeplot(x='Policy_Sales_Channel', data=df1, hue='Response')\n",
    "plt.show()"
   ]
  },
  {
   "cell_type": "code",
   "execution_count": 36,
   "id": "b6b1a0af",
   "metadata": {},
   "outputs": [
    {
     "name": "stdout",
     "output_type": "stream",
     "text": [
      "Total number of previously insured vehicles with response 1: 158\n"
     ]
    }
   ],
   "source": [
    "# Filter the DataFrame based on condition\n",
    "filtered_df = df1[(df1['Previously_Insured'] == 1) & (df1['Response'] == 1)]\n",
    "\n",
    "# Get the total count of previously insured vehicles with response = 1\n",
    "total_previous_insured_with_response_1 = len(filtered_df)\n",
    "\n",
    "print(\"Total number of previously insured vehicles with response 1:\", total_previous_insured_with_response_1)"
   ]
  },
  {
   "cell_type": "markdown",
   "id": "81c3ee65",
   "metadata": {},
   "source": [
    "### 158 Vehicles are previously insured"
   ]
  },
  {
   "cell_type": "code",
   "execution_count": 112,
   "id": "3246487e",
   "metadata": {},
   "outputs": [
    {
     "data": {
      "text/plain": [
       "28.0    19900\n",
       "8.0      3251\n",
       "41.0     2222\n",
       "46.0     2030\n",
       "29.0     1361\n",
       "3.0      1179\n",
       "11.0     1041\n",
       "15.0      958\n",
       "30.0      900\n",
       "35.0      865\n",
       "33.0      759\n",
       "36.0      703\n",
       "18.0      678\n",
       "47.0      652\n",
       "50.0      642\n",
       "45.0      615\n",
       "39.0      574\n",
       "48.0      476\n",
       "6.0       439\n",
       "37.0      436\n",
       "7.0       432\n",
       "14.0      422\n",
       "38.0      389\n",
       "13.0      364\n",
       "24.0      341\n",
       "12.0      311\n",
       "21.0      303\n",
       "23.0      300\n",
       "2.0       286\n",
       "4.0       285\n",
       "10.0      263\n",
       "9.0       252\n",
       "19.0      250\n",
       "43.0      243\n",
       "32.0      239\n",
       "20.0      223\n",
       "27.0      208\n",
       "31.0      197\n",
       "26.0      187\n",
       "17.0      184\n",
       "0.0       174\n",
       "40.0      153\n",
       "5.0       148\n",
       "49.0      137\n",
       "16.0      134\n",
       "34.0      126\n",
       "1.0       109\n",
       "25.0      107\n",
       "22.0       83\n",
       "42.0       44\n",
       "44.0       33\n",
       "52.0       33\n",
       "51.0       28\n",
       "Name: Region_Code, dtype: int64"
      ]
     },
     "execution_count": 112,
     "metadata": {},
     "output_type": "execute_result"
    }
   ],
   "source": [
    "#Region code with the highest response rate\n",
    "yes_1=df1[df1['Response']==1]\n",
    "yes_1['Region_Code'].value_counts()           \n",
    "                \n",
    "     "
   ]
  },
  {
   "cell_type": "markdown",
   "id": "06188ca0",
   "metadata": {},
   "source": [
    "### Regioncode  28.0 has the maximim response rate "
   ]
  },
  {
   "cell_type": "markdown",
   "id": "4c9c5353",
   "metadata": {},
   "source": [
    "# Finding correlation between features"
   ]
  },
  {
   "cell_type": "code",
   "execution_count": 37,
   "id": "7aa33a46",
   "metadata": {},
   "outputs": [
    {
     "data": {
      "text/html": [
       "<div>\n",
       "<style scoped>\n",
       "    .dataframe tbody tr th:only-of-type {\n",
       "        vertical-align: middle;\n",
       "    }\n",
       "\n",
       "    .dataframe tbody tr th {\n",
       "        vertical-align: top;\n",
       "    }\n",
       "\n",
       "    .dataframe thead th {\n",
       "        text-align: right;\n",
       "    }\n",
       "</style>\n",
       "<table border=\"1\" class=\"dataframe\">\n",
       "  <thead>\n",
       "    <tr style=\"text-align: right;\">\n",
       "      <th></th>\n",
       "      <th>Age</th>\n",
       "      <th>Driving_License</th>\n",
       "      <th>Region_Code</th>\n",
       "      <th>Previously_Insured</th>\n",
       "      <th>Annual_Premium</th>\n",
       "      <th>Policy_Sales_Channel</th>\n",
       "      <th>Vintage</th>\n",
       "      <th>Response</th>\n",
       "      <th>Gender_Male</th>\n",
       "      <th>Vehicle_Age_ 1 Year</th>\n",
       "      <th>Vehicle_Age_&gt; 2 Years</th>\n",
       "      <th>Vehicle_Damage_Yes</th>\n",
       "    </tr>\n",
       "  </thead>\n",
       "  <tbody>\n",
       "    <tr>\n",
       "      <th>Age</th>\n",
       "      <td>1.000000</td>\n",
       "      <td>NaN</td>\n",
       "      <td>0.042580</td>\n",
       "      <td>-0.254721</td>\n",
       "      <td>0.066133</td>\n",
       "      <td>-0.577373</td>\n",
       "      <td>-0.001362</td>\n",
       "      <td>0.112568</td>\n",
       "      <td>0.144839</td>\n",
       "      <td>-0.788087</td>\n",
       "      <td>0.221333</td>\n",
       "      <td>0.267547</td>\n",
       "    </tr>\n",
       "    <tr>\n",
       "      <th>Driving_License</th>\n",
       "      <td>NaN</td>\n",
       "      <td>NaN</td>\n",
       "      <td>NaN</td>\n",
       "      <td>NaN</td>\n",
       "      <td>NaN</td>\n",
       "      <td>NaN</td>\n",
       "      <td>NaN</td>\n",
       "      <td>NaN</td>\n",
       "      <td>NaN</td>\n",
       "      <td>NaN</td>\n",
       "      <td>NaN</td>\n",
       "      <td>NaN</td>\n",
       "    </tr>\n",
       "    <tr>\n",
       "      <th>Region_Code</th>\n",
       "      <td>0.042580</td>\n",
       "      <td>NaN</td>\n",
       "      <td>1.000000</td>\n",
       "      <td>-0.024750</td>\n",
       "      <td>-0.009647</td>\n",
       "      <td>-0.042591</td>\n",
       "      <td>-0.002691</td>\n",
       "      <td>0.010642</td>\n",
       "      <td>0.000622</td>\n",
       "      <td>-0.044285</td>\n",
       "      <td>0.014615</td>\n",
       "      <td>0.028295</td>\n",
       "    </tr>\n",
       "    <tr>\n",
       "      <th>Previously_Insured</th>\n",
       "      <td>-0.254721</td>\n",
       "      <td>NaN</td>\n",
       "      <td>-0.024750</td>\n",
       "      <td>1.000000</td>\n",
       "      <td>0.007475</td>\n",
       "      <td>0.219422</td>\n",
       "      <td>0.002507</td>\n",
       "      <td>-0.341651</td>\n",
       "      <td>-0.081810</td>\n",
       "      <td>0.358828</td>\n",
       "      <td>-0.191371</td>\n",
       "      <td>-0.824280</td>\n",
       "    </tr>\n",
       "    <tr>\n",
       "      <th>Annual_Premium</th>\n",
       "      <td>0.066133</td>\n",
       "      <td>NaN</td>\n",
       "      <td>-0.009647</td>\n",
       "      <td>0.007475</td>\n",
       "      <td>1.000000</td>\n",
       "      <td>-0.117980</td>\n",
       "      <td>-0.000813</td>\n",
       "      <td>0.022256</td>\n",
       "      <td>0.003435</td>\n",
       "      <td>-0.018868</td>\n",
       "      <td>0.063779</td>\n",
       "      <td>0.007226</td>\n",
       "    </tr>\n",
       "    <tr>\n",
       "      <th>Policy_Sales_Channel</th>\n",
       "      <td>-0.577373</td>\n",
       "      <td>NaN</td>\n",
       "      <td>-0.042591</td>\n",
       "      <td>0.219422</td>\n",
       "      <td>-0.117980</td>\n",
       "      <td>1.000000</td>\n",
       "      <td>0.000039</td>\n",
       "      <td>-0.139882</td>\n",
       "      <td>-0.110578</td>\n",
       "      <td>0.571253</td>\n",
       "      <td>-0.146561</td>\n",
       "      <td>-0.224338</td>\n",
       "    </tr>\n",
       "    <tr>\n",
       "      <th>Vintage</th>\n",
       "      <td>-0.001362</td>\n",
       "      <td>NaN</td>\n",
       "      <td>-0.002691</td>\n",
       "      <td>0.002507</td>\n",
       "      <td>-0.000813</td>\n",
       "      <td>0.000039</td>\n",
       "      <td>1.000000</td>\n",
       "      <td>-0.000996</td>\n",
       "      <td>-0.002446</td>\n",
       "      <td>0.002454</td>\n",
       "      <td>0.000528</td>\n",
       "      <td>-0.002084</td>\n",
       "    </tr>\n",
       "    <tr>\n",
       "      <th>Response</th>\n",
       "      <td>0.112568</td>\n",
       "      <td>NaN</td>\n",
       "      <td>0.010642</td>\n",
       "      <td>-0.341651</td>\n",
       "      <td>0.022256</td>\n",
       "      <td>-0.139882</td>\n",
       "      <td>-0.000996</td>\n",
       "      <td>1.000000</td>\n",
       "      <td>0.052760</td>\n",
       "      <td>-0.210568</td>\n",
       "      <td>0.109523</td>\n",
       "      <td>0.354924</td>\n",
       "    </tr>\n",
       "    <tr>\n",
       "      <th>Gender_Male</th>\n",
       "      <td>0.144839</td>\n",
       "      <td>NaN</td>\n",
       "      <td>0.000622</td>\n",
       "      <td>-0.081810</td>\n",
       "      <td>0.003435</td>\n",
       "      <td>-0.110578</td>\n",
       "      <td>-0.002446</td>\n",
       "      <td>0.052760</td>\n",
       "      <td>1.000000</td>\n",
       "      <td>-0.165833</td>\n",
       "      <td>0.043168</td>\n",
       "      <td>0.091497</td>\n",
       "    </tr>\n",
       "    <tr>\n",
       "      <th>Vehicle_Age_ 1 Year</th>\n",
       "      <td>-0.788087</td>\n",
       "      <td>NaN</td>\n",
       "      <td>-0.044285</td>\n",
       "      <td>0.358828</td>\n",
       "      <td>-0.018868</td>\n",
       "      <td>0.571253</td>\n",
       "      <td>0.002454</td>\n",
       "      <td>-0.210568</td>\n",
       "      <td>-0.165833</td>\n",
       "      <td>1.000000</td>\n",
       "      <td>-0.182962</td>\n",
       "      <td>-0.370808</td>\n",
       "    </tr>\n",
       "    <tr>\n",
       "      <th>Vehicle_Age_&gt; 2 Years</th>\n",
       "      <td>0.221333</td>\n",
       "      <td>NaN</td>\n",
       "      <td>0.014615</td>\n",
       "      <td>-0.191371</td>\n",
       "      <td>0.063779</td>\n",
       "      <td>-0.146561</td>\n",
       "      <td>0.000528</td>\n",
       "      <td>0.109523</td>\n",
       "      <td>0.043168</td>\n",
       "      <td>-0.182962</td>\n",
       "      <td>1.000000</td>\n",
       "      <td>0.206971</td>\n",
       "    </tr>\n",
       "    <tr>\n",
       "      <th>Vehicle_Damage_Yes</th>\n",
       "      <td>0.267547</td>\n",
       "      <td>NaN</td>\n",
       "      <td>0.028295</td>\n",
       "      <td>-0.824280</td>\n",
       "      <td>0.007226</td>\n",
       "      <td>-0.224338</td>\n",
       "      <td>-0.002084</td>\n",
       "      <td>0.354924</td>\n",
       "      <td>0.091497</td>\n",
       "      <td>-0.370808</td>\n",
       "      <td>0.206971</td>\n",
       "      <td>1.000000</td>\n",
       "    </tr>\n",
       "  </tbody>\n",
       "</table>\n",
       "</div>"
      ],
      "text/plain": [
       "                            Age  Driving_License  Region_Code  \\\n",
       "Age                    1.000000              NaN     0.042580   \n",
       "Driving_License             NaN              NaN          NaN   \n",
       "Region_Code            0.042580              NaN     1.000000   \n",
       "Previously_Insured    -0.254721              NaN    -0.024750   \n",
       "Annual_Premium         0.066133              NaN    -0.009647   \n",
       "Policy_Sales_Channel  -0.577373              NaN    -0.042591   \n",
       "Vintage               -0.001362              NaN    -0.002691   \n",
       "Response               0.112568              NaN     0.010642   \n",
       "Gender_Male            0.144839              NaN     0.000622   \n",
       "Vehicle_Age_ 1 Year   -0.788087              NaN    -0.044285   \n",
       "Vehicle_Age_> 2 Years  0.221333              NaN     0.014615   \n",
       "Vehicle_Damage_Yes     0.267547              NaN     0.028295   \n",
       "\n",
       "                       Previously_Insured  Annual_Premium  \\\n",
       "Age                             -0.254721        0.066133   \n",
       "Driving_License                       NaN             NaN   \n",
       "Region_Code                     -0.024750       -0.009647   \n",
       "Previously_Insured               1.000000        0.007475   \n",
       "Annual_Premium                   0.007475        1.000000   \n",
       "Policy_Sales_Channel             0.219422       -0.117980   \n",
       "Vintage                          0.002507       -0.000813   \n",
       "Response                        -0.341651        0.022256   \n",
       "Gender_Male                     -0.081810        0.003435   \n",
       "Vehicle_Age_ 1 Year              0.358828       -0.018868   \n",
       "Vehicle_Age_> 2 Years           -0.191371        0.063779   \n",
       "Vehicle_Damage_Yes              -0.824280        0.007226   \n",
       "\n",
       "                       Policy_Sales_Channel   Vintage  Response  Gender_Male  \\\n",
       "Age                               -0.577373 -0.001362  0.112568     0.144839   \n",
       "Driving_License                         NaN       NaN       NaN          NaN   \n",
       "Region_Code                       -0.042591 -0.002691  0.010642     0.000622   \n",
       "Previously_Insured                 0.219422  0.002507 -0.341651    -0.081810   \n",
       "Annual_Premium                    -0.117980 -0.000813  0.022256     0.003435   \n",
       "Policy_Sales_Channel               1.000000  0.000039 -0.139882    -0.110578   \n",
       "Vintage                            0.000039  1.000000 -0.000996    -0.002446   \n",
       "Response                          -0.139882 -0.000996  1.000000     0.052760   \n",
       "Gender_Male                       -0.110578 -0.002446  0.052760     1.000000   \n",
       "Vehicle_Age_ 1 Year                0.571253  0.002454 -0.210568    -0.165833   \n",
       "Vehicle_Age_> 2 Years             -0.146561  0.000528  0.109523     0.043168   \n",
       "Vehicle_Damage_Yes                -0.224338 -0.002084  0.354924     0.091497   \n",
       "\n",
       "                       Vehicle_Age_ 1 Year  Vehicle_Age_> 2 Years  \\\n",
       "Age                              -0.788087               0.221333   \n",
       "Driving_License                        NaN                    NaN   \n",
       "Region_Code                      -0.044285               0.014615   \n",
       "Previously_Insured                0.358828              -0.191371   \n",
       "Annual_Premium                   -0.018868               0.063779   \n",
       "Policy_Sales_Channel              0.571253              -0.146561   \n",
       "Vintage                           0.002454               0.000528   \n",
       "Response                         -0.210568               0.109523   \n",
       "Gender_Male                      -0.165833               0.043168   \n",
       "Vehicle_Age_ 1 Year               1.000000              -0.182962   \n",
       "Vehicle_Age_> 2 Years            -0.182962               1.000000   \n",
       "Vehicle_Damage_Yes               -0.370808               0.206971   \n",
       "\n",
       "                       Vehicle_Damage_Yes  \n",
       "Age                              0.267547  \n",
       "Driving_License                       NaN  \n",
       "Region_Code                      0.028295  \n",
       "Previously_Insured              -0.824280  \n",
       "Annual_Premium                   0.007226  \n",
       "Policy_Sales_Channel            -0.224338  \n",
       "Vintage                         -0.002084  \n",
       "Response                         0.354924  \n",
       "Gender_Male                      0.091497  \n",
       "Vehicle_Age_ 1 Year             -0.370808  \n",
       "Vehicle_Age_> 2 Years            0.206971  \n",
       "Vehicle_Damage_Yes               1.000000  "
      ]
     },
     "execution_count": 37,
     "metadata": {},
     "output_type": "execute_result"
    }
   ],
   "source": [
    "#Finding relation between features\n",
    "df1.corr()"
   ]
  },
  {
   "cell_type": "code",
   "execution_count": 38,
   "id": "f3b1a89a",
   "metadata": {},
   "outputs": [
    {
     "data": {
      "text/plain": [
       "<AxesSubplot:>"
      ]
     },
     "execution_count": 38,
     "metadata": {},
     "output_type": "execute_result"
    },
    {
     "data": {
      "image/png": "[encoded data removed]",
      "text/plain": [
       "<Figure size 1200x1200 with 2 Axes>"
      ]
     },
     "metadata": {},
     "output_type": "display_data"
    }
   ],
   "source": [
    "plt.figure(figsize=(12,12))\n",
    "sns.heatmap(df1.corr(),annot=True)"
   ]
  },
  {
   "cell_type": "markdown",
   "id": "488d7915",
   "metadata": {},
   "source": [
    "### Features are weakly correlated"
   ]
  },
  {
   "cell_type": "markdown",
   "id": "204206b4",
   "metadata": {},
   "source": [
    "# Splitting dataset into x and y"
   ]
  },
  {
   "cell_type": "code",
   "execution_count": 39,
   "id": "0ceaa46c",
   "metadata": {},
   "outputs": [],
   "source": [
    "x=df1.drop('Response',axis=1)\n",
    "y=df1.Response"
   ]
  },
  {
   "cell_type": "markdown",
   "id": "4fd87238",
   "metadata": {},
   "source": [
    "# Handling Imbalanced dataset"
   ]
  },
  {
   "cell_type": "code",
   "execution_count": 40,
   "id": "0858b805",
   "metadata": {},
   "outputs": [
    {
     "data": {
      "text/plain": [
       "0    333628\n",
       "1     46669\n",
       "Name: Response, dtype: int64"
      ]
     },
     "execution_count": 40,
     "metadata": {},
     "output_type": "execute_result"
    }
   ],
   "source": [
    "df1['Response'].value_counts()"
   ]
  },
  {
   "cell_type": "code",
   "execution_count": 41,
   "id": "33305c61",
   "metadata": {},
   "outputs": [
    {
     "data": {
      "text/plain": [
       "Counter({1: 46669, 0: 333628})"
      ]
     },
     "execution_count": 41,
     "metadata": {},
     "output_type": "execute_result"
    }
   ],
   "source": [
    "from collections import Counter\n",
    "Counter(y)"
   ]
  },
  {
   "cell_type": "code",
   "execution_count": 42,
   "id": "b5de84bd",
   "metadata": {},
   "outputs": [
    {
     "name": "stdout",
     "output_type": "stream",
     "text": [
      "No of classes before fit: Counter({0: 333628, 1: 46669})\n",
      "No of classes after fit: Counter({0: 333628, 1: 250221})\n"
     ]
    }
   ],
   "source": [
    "# Handling imbalanced datasets using RandomOverSampler\n",
    "os = RandomOverSampler(sampling_strategy=0.75)  # Corrected\n",
    "x_new, y_new = os.fit_resample(x, y)\n",
    "\n",
    "print(\"No of classes before fit: {}\".format(Counter(y)))\n",
    "print(\"No of classes after fit: {}\".format(Counter(y_new)))"
   ]
  },
  {
   "cell_type": "code",
   "execution_count": 43,
   "id": "c7dcc4c8",
   "metadata": {},
   "outputs": [],
   "source": [
    "##= train_test_split\n",
    "X_train,X_test,y_train,y_test = train_test_split(x_new,y_new, test_size = 0.2,random_state = 20)"
   ]
  },
  {
   "cell_type": "code",
   "execution_count": 44,
   "id": "6026c5e2",
   "metadata": {},
   "outputs": [],
   "source": [
    "#Creting model pipeline\n",
    "models={\n",
    "    'Random Forest':RandomForestClassifier(),\n",
    "    'XGboost':xg.XGBClassifier(),\n",
    "    \n",
    "\n",
    "}"
   ]
  },
  {
   "cell_type": "code",
   "execution_count": 45,
   "id": "ab64b145",
   "metadata": {},
   "outputs": [],
   "source": [
    "def evaluate_model(X_train, y_train, X_test, y_test, models):\n",
    "    report = {}\n",
    "    \n",
    "    for model_name, model in models.items():\n",
    "        # Train model\n",
    "        model.fit(X_train, y_train)\n",
    "\n",
    "        # Predict Testing data\n",
    "        y_test_pred = model.predict(X_test)\n",
    "\n",
    "        # Get accuracy for test data prediction\n",
    "        test_model_score = accuracy_score(y_test, y_test_pred)\n",
    "        cm = confusion_matrix(y_test, y_test_pred)\n",
    "        prec_score = precision_score(y_test, y_test_pred)\n",
    "        recal_score = recall_score(y_test, y_test_pred)\n",
    "\n",
    "        # Store metrics in the report dictionary\n",
    "        report[model_name] = {\n",
    "            'confusion_matrix': cm,\n",
    "            'precision_score': prec_score,\n",
    "            'recall_score': recal_score,\n",
    "            'accuracy_score': test_model_score\n",
    "        }\n",
    "\n",
    "    return report\n"
   ]
  },
  {
   "cell_type": "code",
   "execution_count": 46,
   "id": "6fe2abb2",
   "metadata": {},
   "outputs": [
    {
     "data": {
      "text/plain": [
       "{'Random Forest': {'confusion_matrix': array([[60285,  6444],\n",
       "         [  402, 49639]], dtype=int64),\n",
       "  'precision_score': 0.8850988713157285,\n",
       "  'recall_score': 0.9919665873983333,\n",
       "  'accuracy_score': 0.9413719277211613},\n",
       " 'XGboost': {'confusion_matrix': array([[48216, 18513],\n",
       "         [ 5187, 44854]], dtype=int64),\n",
       "  'precision_score': 0.7078447772499882,\n",
       "  'recall_score': 0.896344997102376,\n",
       "  'accuracy_score': 0.7970369101652822}}"
      ]
     },
     "execution_count": 46,
     "metadata": {},
     "output_type": "execute_result"
    }
   ],
   "source": [
    "evaluate_model(X_train,y_train,X_test,y_test,models)"
   ]
  },
  {
   "cell_type": "code",
   "execution_count": 47,
   "id": "39dece2c",
   "metadata": {},
   "outputs": [],
   "source": [
    "from sklearn.metrics import ConfusionMatrixDisplay"
   ]
  },
  {
   "cell_type": "code",
   "execution_count": 83,
   "id": "565fde3c",
   "metadata": {},
   "outputs": [
    {
     "data": {
      "text/plain": [
       "XGBClassifier(base_score=None, booster=None, callbacks=None,\n",
       "              colsample_bylevel=None, colsample_bynode=None,\n",
       "              colsample_bytree=0.8, early_stopping_rounds=None,\n",
       "              enable_categorical=False, eval_metric=None, feature_types=None,\n",
       "              gamma=0, gpu_id=None, grow_policy=None, importance_type=None,\n",
       "              interaction_constraints=None, learning_rate=0.1, max_bin=None,\n",
       "              max_cat_threshold=None, max_cat_to_onehot=None,\n",
       "              max_delta_step=None, max_depth=5, max_leaves=None,\n",
       "              min_child_weight=1, missing=nan, monotone_constraints=None,\n",
       "              n_estimators=1000, n_jobs=None, nthread=4, num_parallel_tree=None,\n",
       "              predictor=None, ...)"
      ]
     },
     "execution_count": 83,
     "metadata": {},
     "output_type": "execute_result"
    }
   ],
   "source": [
    "# Instantiating RandomForestClassifier and XGBClassifier\n",
    "classifier=RandomForestClassifier(oob_score=True)\n",
    "classifier.fit(X_train,y_train)\n",
    "xgClassifier=xg.XGBClassifier(\n",
    " learning_rate =0.1,\n",
    " n_estimators=1000,\n",
    " max_depth=5,\n",
    " min_child_weight=1,\n",
    " gamma=0,\n",
    " subsample=0.8,\n",
    " colsample_bytree=0.8,\n",
    " objective= 'binary:logistic',\n",
    " nthread=4,\n",
    " scale_pos_weight=1,\n",
    " seed=27)\n",
    "xgClassifier.fit(X_train,y_train)"
   ]
  },
  {
   "cell_type": "code",
   "execution_count": 76,
   "id": "8d3954d9",
   "metadata": {},
   "outputs": [
    {
     "data": {
      "image/png": "[encoded data removed]",
      "text/plain": [
       "<Figure size 640x480 with 2 Axes>"
      ]
     },
     "metadata": {},
     "output_type": "display_data"
    }
   ],
   "source": [
    "#Plotting confusion matrix for RandomForestClassifier\n",
    "y_test_pred =classifier.predict(X_test)\n",
    "cm = confusion_matrix(y_test,y_test_pred, labels=classifier.classes_)\n",
    "disp = ConfusionMatrixDisplay(confusion_matrix=cm,\n",
    "                              display_labels=classifier.classes_)\n",
    "disp.plot()\n",
    "\n",
    "plt.show()"
   ]
  },
  {
   "cell_type": "code",
   "execution_count": 101,
   "id": "6aab91d6",
   "metadata": {},
   "outputs": [],
   "source": [
    "## Hypeparameter Tuning for RandomForestClassifier\n",
    "params={'max_depth':[3,5,10],\n",
    "              'n_estimators':[100,200,300],\n",
    "               'criterion':['gini','entropy']\n",
    "              }\n",
    "kfold = StratifiedKFold(n_splits=3,shuffle=True,random_state=21)   \n",
    "                        "
   ]
  },
  {
   "cell_type": "code",
   "execution_count": 102,
   "id": "58f36a02",
   "metadata": {},
   "outputs": [],
   "source": [
    "\n",
    "cross_val = StratifiedKFold(n_splits=3)\n",
    "clf = RandomForestClassifier()\n",
    "n_iter_search = 8\n",
    "random_search = RandomizedSearchCV(clf, param_distributions=params,\n",
    "                               n_iter=n_iter_search,\n",
    "                               scoring='roc_auc', cv=cross_val,\n",
    "                               n_jobs=-1)"
   ]
  },
  {
   "cell_type": "code",
   "execution_count": 103,
   "id": "232601a1",
   "metadata": {},
   "outputs": [
    {
     "data": {
      "text/plain": [
       "RandomizedSearchCV(cv=StratifiedKFold(n_splits=3, random_state=None, shuffle=False),\n",
       "                   estimator=RandomForestClassifier(), n_iter=8, n_jobs=-1,\n",
       "                   param_distributions={'criterion': ['gini', 'entropy'],\n",
       "                                        'max_depth': [3, 5, 10],\n",
       "                                        'n_estimators': [100, 200, 300]},\n",
       "                   scoring='roc_auc')"
      ]
     },
     "execution_count": 103,
     "metadata": {},
     "output_type": "execute_result"
    }
   ],
   "source": [
    "# Fitting X_train and y_train\n",
    "random_search.fit(X_train,y_train)"
   ]
  },
  {
   "cell_type": "code",
   "execution_count": 104,
   "id": "3a5a2e1a",
   "metadata": {},
   "outputs": [
    {
     "data": {
      "text/plain": [
       "{'n_estimators': 100, 'max_depth': 10, 'criterion': 'gini'}"
      ]
     },
     "execution_count": 104,
     "metadata": {},
     "output_type": "execute_result"
    }
   ],
   "source": [
    "#Finding best parameters\n",
    "random_search.best_params_"
   ]
  },
  {
   "cell_type": "code",
   "execution_count": 105,
   "id": "657f6e9f",
   "metadata": {},
   "outputs": [
    {
     "data": {
      "text/plain": [
       "RandomForestClassifier(max_depth=10)"
      ]
     },
     "execution_count": 105,
     "metadata": {},
     "output_type": "execute_result"
    }
   ],
   "source": [
    "#Fitting after performing randomized searchcv\n",
    "rand_clf=RandomForestClassifier(n_estimators= 100, max_depth= 10, criterion= 'gini')\n",
    "rand_clf.fit(X_train,y_train)"
   ]
  },
  {
   "cell_type": "code",
   "execution_count": 106,
   "id": "d7ad02cf",
   "metadata": {},
   "outputs": [],
   "source": [
    "#Predicting y_pred\n",
    "y_pred=rand_clf.predict(X_test)\n"
   ]
  },
  {
   "cell_type": "code",
   "execution_count": 107,
   "id": "aba98f62",
   "metadata": {},
   "outputs": [
    {
     "data": {
      "image/png": "[encoded data removed]",
      "text/plain": [
       "<Figure size 640x480 with 2 Axes>"
      ]
     },
     "metadata": {},
     "output_type": "display_data"
    }
   ],
   "source": [
    "#Plotting confusion_matrix of RandomForestClassfier after using randomized searchcv\n",
    "cm_randomforest = confusion_matrix(y_test,y_pred, labels=rand_clf.classes_)\n",
    "disp = ConfusionMatrixDisplay(confusion_matrix=cm,\n",
    "                              display_labels=classifier.classes_)\n",
    "disp.plot()\n",
    "\n",
    "plt.show()"
   ]
  },
  {
   "cell_type": "code",
   "execution_count": 108,
   "id": "8b6181d4",
   "metadata": {},
   "outputs": [
    {
     "data": {
      "text/plain": [
       "'              precision    recall  f1-score   support\\n\\n           0       0.90      0.70      0.79     66729\\n           1       0.69      0.89      0.78     50041\\n\\n    accuracy                           0.78    116770\\n   macro avg       0.79      0.80      0.78    116770\\nweighted avg       0.81      0.78      0.78    116770\\n'"
      ]
     },
     "execution_count": 108,
     "metadata": {},
     "output_type": "execute_result"
    }
   ],
   "source": [
    "#Classification report of RamdomForestClassifier after hypertuning\n",
    "classification_report(y_test,y_pred)"
   ]
  },
  {
   "cell_type": "code",
   "execution_count": 86,
   "id": "aa97a8d6",
   "metadata": {},
   "outputs": [
    {
     "data": {
      "image/png": "[encoded data removed]",
      "text/plain": [
       "<Figure size 640x480 with 2 Axes>"
      ]
     },
     "metadata": {},
     "output_type": "display_data"
    }
   ],
   "source": [
    "y_predicted=xgClassifier.predict(X_test)\n",
    "cm=confusion_matrix(y_test,y_predicted)\n",
    "cm_randomforest = confusion_matrix(y_test,y_predicted, labels=rand_clf.classes_)\n",
    "disp = ConfusionMatrixDisplay(confusion_matrix=cm,\n",
    "                              display_labels=xgClassifier.classes_)\n",
    "disp.plot()\n",
    "\n",
    "plt.show()\n"
   ]
  },
  {
   "cell_type": "code",
   "execution_count": 67,
   "id": "a771a67f",
   "metadata": {},
   "outputs": [],
   "source": [
    "##XgbCalssifer hyperparameter tuning\n",
    "param_dist = {\n",
    "    'n_estimators': stats.randint(3,10),\n",
    "    'learning_rate': stats.uniform(0.01, 0.1),\n",
    "    'subsample': stats.uniform(0.1, 0.3),\n",
    "    'max_depth': [3, 4, 5,],\n",
    "    'colsample_bytree': stats.uniform(0.5, 0.6),\n",
    "    'min_child_weight': [1, 2]\n",
    "}\n",
    "\n",
    "clf_xgb = xg.XGBClassifier(objective='binary:logistic')\n",
    "random_search = RandomizedSearchCV(\n",
    "    clf_xgb, param_distributions=param_dist, n_iter=3, scoring='roc_auc', n_jobs=-1, cv=5, verbose=3\n",
    ")"
   ]
  },
  {
   "cell_type": "code",
   "execution_count": 68,
   "id": "fbc7c8ec",
   "metadata": {},
   "outputs": [
    {
     "name": "stdout",
     "output_type": "stream",
     "text": [
      "Fitting 5 folds for each of 3 candidates, totalling 15 fits\n"
     ]
    },
    {
     "name": "stderr",
     "output_type": "stream",
     "text": [
      "C:\\Users\\riyaz\\anaconda3\\lib\\site-packages\\sklearn\\model_selection\\_validation.py:372: FitFailedWarning: \n",
      "5 fits failed out of a total of 15.\n",
      "The score on these train-test partitions for these parameters will be set to nan.\n",
      "If these failures are not expected, you can try to debug them by setting error_score='raise'.\n",
      "\n",
      "Below are more details about the failures:\n",
      "--------------------------------------------------------------------------------\n",
      "5 fits failed with the following error:\n",
      "Traceback (most recent call last):\n",
      "  File \"C:\\Users\\riyaz\\anaconda3\\lib\\site-packages\\sklearn\\model_selection\\_validation.py\", line 680, in _fit_and_score\n",
      "    estimator.fit(X_train, y_train, **fit_params)\n",
      "  File \"C:\\Users\\riyaz\\anaconda3\\lib\\site-packages\\xgboost\\core.py\", line 620, in inner_f\n",
      "    return func(**kwargs)\n",
      "  File \"C:\\Users\\riyaz\\anaconda3\\lib\\site-packages\\xgboost\\sklearn.py\", line 1490, in fit\n",
      "    self._Booster = train(\n",
      "  File \"C:\\Users\\riyaz\\anaconda3\\lib\\site-packages\\xgboost\\core.py\", line 620, in inner_f\n",
      "    return func(**kwargs)\n",
      "  File \"C:\\Users\\riyaz\\anaconda3\\lib\\site-packages\\xgboost\\training.py\", line 185, in train\n",
      "    bst.update(dtrain, i, obj)\n",
      "  File \"C:\\Users\\riyaz\\anaconda3\\lib\\site-packages\\xgboost\\core.py\", line 1918, in update\n",
      "    _check_call(_LIB.XGBoosterUpdateOneIter(self.handle,\n",
      "  File \"C:\\Users\\riyaz\\anaconda3\\lib\\site-packages\\xgboost\\core.py\", line 279, in _check_call\n",
      "    raise XGBoostError(py_str(_LIB.XGBGetLastError()))\n",
      "xgboost.core.XGBoostError: value 1.01728 for Parameter colsample_bytree exceed bound [0,1]\n",
      "colsample_bytree: Subsample ratio of columns, resample on each tree construction.\n",
      "\n",
      "  warnings.warn(some_fits_failed_message, FitFailedWarning)\n",
      "C:\\Users\\riyaz\\anaconda3\\lib\\site-packages\\sklearn\\model_selection\\_search.py:969: UserWarning: One or more of the test scores are non-finite: [       nan 0.84164979 0.84228597]\n",
      "  warnings.warn(\n"
     ]
    }
   ],
   "source": [
    "#Performing randomizedsearchcv\n",
    "search=random_search.fit(X_train,y_train)"
   ]
  },
  {
   "cell_type": "code",
   "execution_count": 69,
   "id": "a410faca",
   "metadata": {},
   "outputs": [
    {
     "data": {
      "text/plain": [
       "{'colsample_bytree': 0.7874212256140836,\n",
       " 'learning_rate': 0.08878261095030364,\n",
       " 'max_depth': 4,\n",
       " 'min_child_weight': 1,\n",
       " 'n_estimators': 4,\n",
       " 'subsample': 0.16463748864602962}"
      ]
     },
     "execution_count": 69,
     "metadata": {},
     "output_type": "execute_result"
    }
   ],
   "source": [
    "#Finding best parameters\n",
    "search.best_params_"
   ]
  },
  {
   "cell_type": "code",
   "execution_count": 70,
   "id": "6bf65266",
   "metadata": {},
   "outputs": [],
   "source": [
    "params={'colsample_bytree': 0.5213206562835921,\n",
    " 'learning_rate': 0.02842930492774505,\n",
    " 'max_depth': 3,\n",
    " 'min_child_weight': 2,\n",
    " 'n_estimators': 7,\n",
    " 'subsample': 0.3821809157271694}\n",
    "clf_xgb=xg.XGBClassifier(**params)\n"
   ]
  },
  {
   "cell_type": "code",
   "execution_count": 71,
   "id": "4cf72a17",
   "metadata": {},
   "outputs": [
    {
     "data": {
      "text/plain": [
       "XGBClassifier(base_score=None, booster=None, callbacks=None,\n",
       "              colsample_bylevel=None, colsample_bynode=None,\n",
       "              colsample_bytree=0.5213206562835921, early_stopping_rounds=None,\n",
       "              enable_categorical=False, eval_metric=None, feature_types=None,\n",
       "              gamma=None, gpu_id=None, grow_policy=None, importance_type=None,\n",
       "              interaction_constraints=None, learning_rate=0.02842930492774505,\n",
       "              max_bin=None, max_cat_threshold=None, max_cat_to_onehot=None,\n",
       "              max_delta_step=None, max_depth=3, max_leaves=None,\n",
       "              min_child_weight=2, missing=nan, monotone_constraints=None,\n",
       "              n_estimators=7, n_jobs=None, num_parallel_tree=None,\n",
       "              predictor=None, random_state=None, ...)"
      ]
     },
     "execution_count": 71,
     "metadata": {},
     "output_type": "execute_result"
    }
   ],
   "source": [
    "clf_xgb.fit(X_train,y_train)"
   ]
  },
  {
   "cell_type": "code",
   "execution_count": 98,
   "id": "a39783dc",
   "metadata": {},
   "outputs": [],
   "source": [
    "y_pred_xg=clf_xgb.predict(X_test)"
   ]
  },
  {
   "cell_type": "code",
   "execution_count": 99,
   "id": "41a6566d",
   "metadata": {},
   "outputs": [
    {
     "data": {
      "image/png": "[encoded data removed]",
      "text/plain": [
       "<Figure size 640x480 with 2 Axes>"
      ]
     },
     "metadata": {},
     "output_type": "display_data"
    }
   ],
   "source": [
    "#Plotting confusion matrix for XGboost classifier after Randomizedsearchcn\n",
    "cm_Xgboost=confusion_matrix(y_test,y_pred_xg)\n",
    "cm_Xgboost = confusion_matrix(y_test,y_pred_xg, labels=rand_clf.classes_)\n",
    "disp = ConfusionMatrixDisplay(confusion_matrix=cm,\n",
    "                              display_labels=clf_xgb.classes_)\n",
    "disp.plot()\n",
    "\n",
    "plt.show()\n"
   ]
  },
  {
   "cell_type": "code",
   "execution_count": 89,
   "id": "e15aaf9a",
   "metadata": {},
   "outputs": [
    {
     "data": {
      "text/plain": [
       "'              precision    recall  f1-score   support\\n\\n           0       0.90      0.68      0.77     66729\\n           1       0.68      0.90      0.77     50041\\n\\n    accuracy                           0.77    116770\\n   macro avg       0.79      0.79      0.77    116770\\nweighted avg       0.80      0.77      0.77    116770\\n'"
      ]
     },
     "execution_count": 89,
     "metadata": {},
     "output_type": "execute_result"
    }
   ],
   "source": [
    "#Classification report of XGBoost classifier after hypertuning\n",
    "classification_report(y_test,y_test_pred)"
   ]
  },
  {
   "cell_type": "markdown",
   "id": "f1f1682b",
   "metadata": {},
   "source": [
    "# Conclusion\n",
    "\n",
    "### 1.RandomForestClassifier gives the best accuracy,precision and recall  with the following parameters:\n",
    "### n_estimators=100\n",
    "###  criterion=gini\n",
    "### 2.XGBoost classifier performs well with the following parameters:\n",
    "### colsample_bytree': 0.7874212256140836,\n",
    "### 'learning_rate': 0.08878261095030364,\n",
    "### 'max_depth': 4,\n",
    "### 'min_child_weight': 1,\n",
    "### 'n_estimators': 4,\n",
    "### 'subsample': 0.16463748864602962\n",
    "### 3.Imbalanced datasets have been handled well with increasing number of minority class.\n",
    "### 4. Outliers have been removed.\n"
   ]
  },
  {
   "cell_type": "markdown",
   "id": "f34c44c3",
   "metadata": {},
   "source": [
    "# Suggestion to Stakeholders"
   ]
  },
  {
   "cell_type": "markdown",
   "id": "f9ef4844",
   "metadata": {},
   "source": [
    "\n",
    "### 1. 12% customers with health insurance  are interested in vehicle insurance so focus should be on them.\n",
    "### 2 Percentage of males who are interested in vehicle insurance are 74 \n",
    "###  No of females who are interested in vehicle insurance 18185\n",
    "### So the likelihood of conversion is more with these people with number of men leaading .\n",
    "### 3 Policy Sales Channel 26 has maximim positive response followed by 126 and 155.So this should be used as an effective communication method.\n",
    "### 4. 158 Vehicles are previously insured"
   ]
  },
  {
   "cell_type": "markdown",
   "id": "24aca9f0",
   "metadata": {},
   "source": []
  },
  {
   "cell_type": "markdown",
   "id": "04efd0aa",
   "metadata": {},
   "source": [
    "# "
   ]
  },
  {
   "cell_type": "markdown",
   "id": "80e39399",
   "metadata": {},
   "source": [
    "# "
   ]
  },
  {
   "cell_type": "code",
   "execution_count": null,
   "id": "bd22fbfe",
   "metadata": {},
   "outputs": [],
   "source": []
  },
  {
   "cell_type": "code",
   "execution_count": null,
   "id": "1bac3a67",
   "metadata": {},
   "outputs": [],
   "source": []
  }
 ],
 "metadata": {
  "kernelspec": {
   "display_name": "Python 3 (ipykernel)",
   "language": "python",
   "name": "python3"
  },
  "language_info": {
   "codemirror_mode": {
    "name": "ipython",
    "version": 3
   },
   "file_extension": ".py",
   "mimetype": "text/x-python",
   "name": "python",
   "nbconvert_exporter": "python",
   "pygments_lexer": "ipython3",
   "version": "3.9.13"
  }
 },
 "nbformat": 4,
 "nbformat_minor": 5
}
